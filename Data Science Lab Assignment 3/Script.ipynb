{
 "cells": [
  {
   "cell_type": "code",
   "execution_count": 1,
   "metadata": {},
   "outputs": [],
   "source": [
    "#import the required modules\n",
    "import numpy as np\n",
    "import pandas as pd\n",
    "from pandas import Series,DataFrame"
   ]
  },
  {
   "cell_type": "code",
   "execution_count": 5,
   "metadata": {},
   "outputs": [
    {
     "name": "stdout",
     "output_type": "stream",
     "text": [
      "Which dataset would you like to check? 1,2 or 31\n",
      "We will analyse D1.xlsx\n"
     ]
    }
   ],
   "source": [
    "#taking input from the user\n",
    "i=int(input(\"Which dataset would you like to check? 1,2 or 3\"))\n",
    "assert i in [1,2,3]\n",
    "filename=\"D{fname}.xlsx\".format(fname=i)\n",
    "print(\"We will analyse \"+filename)"
   ]
  },
  {
   "cell_type": "code",
   "execution_count": 8,
   "metadata": {},
   "outputs": [
    {
     "name": "stdout",
     "output_type": "stream",
     "text": [
      "This is our dataset\n",
      "     Sr. No.     X1         X2 Class\n",
      "0          1  717.5  43.897280    C2\n",
      "1          2  702.5  49.715525    C2\n",
      "2          3  587.5  32.777671    C2\n",
      "3          4  272.5   5.732092    C1\n",
      "4          5  477.5  36.249146    C2\n",
      "..       ...    ...        ...   ...\n",
      "295      296  562.5  34.467092    C2\n",
      "296      297  715.0  30.833468    C2\n",
      "297      298  515.0  30.139598    C2\n",
      "298      299  122.5   7.420273    C1\n",
      "299      300  335.0  14.865559    C1\n",
      "\n",
      "[300 rows x 4 columns]\n"
     ]
    }
   ],
   "source": [
    "#read the dataset\n",
    "dataset=pd.read_excel(filename)\n",
    "print(\"This is our dataset\")\n",
    "print(dataset)"
   ]
  },
  {
   "cell_type": "code",
   "execution_count": 10,
   "metadata": {},
   "outputs": [
    {
     "name": "stdout",
     "output_type": "stream",
     "text": [
      "The data of class C2 is\n",
      "     Sr. No.     X1         X2 Class\n",
      "0          1  717.5  43.897280    C2\n",
      "1          2  702.5  49.715525    C2\n",
      "2          3  587.5  32.777671    C2\n",
      "4          5  477.5  36.249146    C2\n",
      "5          6  807.5  27.381482    C2\n",
      "..       ...    ...        ...   ...\n",
      "292      293  635.0  26.955950    C2\n",
      "293      294  675.0  35.575640    C2\n",
      "295      296  562.5  34.467092    C2\n",
      "296      297  715.0  30.833468    C2\n",
      "297      298  515.0  30.139598    C2\n",
      "\n",
      "[150 rows x 4 columns]\n",
      "The data of class C1 is\n",
      "     Sr. No.     X1         X2 Class\n",
      "3          4  272.5   5.732092    C1\n",
      "15        16   57.5   8.386194    C1\n",
      "16        17  267.5  11.551172    C1\n",
      "19        20  125.0   9.455154    C1\n",
      "20        21  320.0  17.201587    C1\n",
      "..       ...    ...        ...   ...\n",
      "287      288  350.0  16.204229    C1\n",
      "290      291  167.5  15.867805    C1\n",
      "294      295  187.5  17.796122    C1\n",
      "298      299  122.5   7.420273    C1\n",
      "299      300  335.0  14.865559    C1\n",
      "\n",
      "[150 rows x 4 columns]\n"
     ]
    }
   ],
   "source": [
    "#Get C2 and C1 dataset\n",
    "C2=dataset[dataset[\"Class\"]==\"C2\"]\n",
    "C1=dataset[dataset[\"Class\"]==\"C1\"]\n",
    "print(\"The data of class C2 is\")\n",
    "print(C2)\n",
    "print(\"The data of class C1 is\")\n",
    "print(C1)"
   ]
  },
  {
   "cell_type": "code",
   "execution_count": 18,
   "metadata": {},
   "outputs": [
    {
     "name": "stdout",
     "output_type": "stream",
     "text": [
      "The covariance matrix of the dataset is\n",
      "[[62551.73494983  2840.37328995]\n",
      " [ 2840.37328995   189.23508111]]\n"
     ]
    }
   ],
   "source": [
    "points=np.zeros((2,len(dataset)))\n",
    "for i in dataset.index:\n",
    "    points[0][i]=dataset.iloc[i][\"X1\"]\n",
    "    points[1][i]=dataset.iloc[i][\"X2\"]\n",
    "cov_mat=np.cov(points)\n",
    "print(\"The covariance matrix of the dataset is\")\n",
    "print(cov_mat)"
   ]
  },
  {
   "cell_type": "code",
   "execution_count": 25,
   "metadata": {},
   "outputs": [],
   "source": [
    "eigen_vals,eigen_vects=np.linalg.eig(cov_mat)"
   ]
  },
  {
   "cell_type": "code",
   "execution_count": 26,
   "metadata": {},
   "outputs": [
    {
     "name": "stdout",
     "output_type": "stream",
     "text": [
      "Our eigen values are\n",
      "[6.26808358e+04 6.01342047e+01]\n",
      "Our eigen vectors are\n",
      "[[ 0.99896865  0.0454052 ]\n",
      " [-0.0454052   0.99896865]]\n"
     ]
    }
   ],
   "source": [
    "idx = eigen_vals.argsort()[::-1]   \n",
    "eigen_vals = eigen_vals[idx]\n",
    "eigen_vects = eigen_vects[:,idx]\n",
    "eigen_vects=np.transpose(eigen_vects)\n",
    "print(\"Our eigen values are\")\n",
    "print(eigen_vals)\n",
    "print(\"Our eigen vectors are\")\n",
    "print(eigen_vects)"
   ]
  },
  {
   "cell_type": "code",
   "execution_count": 31,
   "metadata": {},
   "outputs": [
    {
     "name": "stdout",
     "output_type": "stream",
     "text": [
      "Now we will transform our data\n",
      "We will project this data on one of the eigen vector\n",
      "The shape of this projection matrix is  (2, 300)\n",
      "The first row represents when we project data along eigen vector corresponding to highest eigen value\n",
      "The projection matrix is:\n",
      "[[ 7.18753173e+02  7.04032822e+02  5.88382360e+02  2.72479224e+02\n",
      "   4.78653431e+02  8.07910448e+02  7.31407217e+02  6.63755919e+02\n",
      "   7.25681906e+02  4.98238428e+02  6.82976492e+02  6.26363061e+02\n",
      "   6.53611633e+02  6.01619421e+02  6.95802310e+02  5.78214743e+01\n",
      "   2.67748598e+02  5.48516516e+02  5.56589765e+02  1.25300395e+02\n",
      "   3.20451010e+02  7.07908764e+02  5.03619338e+02  5.13750652e+02\n",
      "   6.06259726e+02  6.48455071e+02  2.57887546e+02  8.21174028e+02\n",
      "   5.43646855e+02  7.32894085e+02  4.86646988e+02  7.46428388e+02\n",
      "   6.80997706e+02  5.01239650e+02  6.41293814e+02  6.58351326e+02\n",
      "   2.85378750e+02  5.76132263e+02  7.93181758e+02  5.46570520e+02\n",
      "   2.20243356e+02  5.93516353e+02  6.86069797e+02  2.75096786e+02\n",
      "   6.91413653e+02  5.23409827e+02  5.61525904e+02  2.06770368e+01\n",
      "   5.78909391e+02  6.23503129e+02  8.15839199e+02  5.58857781e+02\n",
      "   1.00554900e+02  5.36329051e+02  7.01496980e+02  3.07933572e+02\n",
      "   5.19172435e+02  7.10684589e+02  5.38965010e+02  6.28700748e+02\n",
      "   7.53976988e+02  1.65197812e+02  1.62826291e+02  4.56516640e+01\n",
      "   7.35527179e+02  6.18298790e+02  7.61008956e+02  4.68729188e+02\n",
      "   2.05296473e+02  3.47942043e+02  3.74883452e+02  2.77836542e+02\n",
      "   7.83900206e+02  4.66123574e+02  5.06399249e+02  2.62999746e+02\n",
      "   6.50555250e+02  7.55495045e+02  8.22807601e+02  3.02776645e+02\n",
      "   6.33314309e+02  8.10578835e+02  8.03865267e+02  7.73559421e+02\n",
      "   6.10528508e+02  5.73577907e+02  6.93897162e+02  5.71591619e+02\n",
      "   4.93828792e+02  9.56402007e+01  8.00616234e+02  3.45391491e+02\n",
      "   7.38315012e+02  6.99021416e+02  3.32852230e+02  5.08973784e+02\n",
      "   1.42999395e+02  7.80866009e+02  4.91695287e+02  7.43111439e+02\n",
      "   7.28277346e+02  1.90323308e+02  4.88797693e+02  4.73391685e+02\n",
      "   4.55926860e+02  6.70891170e+02  2.31446326e+01  2.56258535e+01\n",
      "   7.91096617e+02  6.13650990e+02  1.18100418e+02  6.78184899e+02\n",
      "   1.80452006e+02  7.50787586e+02  7.85996930e+02  7.23399023e+02\n",
      "   4.95909212e+02  6.30842607e+02  7.48965047e+02  8.06095385e+02\n",
      "   5.68085661e+02  7.70504603e+02  6.87981862e+02  6.03807082e+02\n",
      "   5.53384993e+02  7.88080332e+02  6.08378749e+02  7.65902254e+02\n",
      "   5.41237111e+02  5.50843312e+02  6.56403767e+02  6.46511747e+02\n",
      "   2.90568493e+02  4.07050292e+01  3.17624786e+02  3.30169547e+01\n",
      "   2.47545937e+02  3.55487295e+02  4.64002312e+02  5.21180931e+02\n",
      "   5.25853776e+02  5.85902868e+02  7.07713998e+01  2.17657863e+02\n",
      "   3.03165982e+01  7.78593389e+02  4.70796797e+02  2.08142820e+02\n",
      "   7.13293379e+02  3.00260824e+02  5.33889465e+02  3.05170678e+02\n",
      "   8.13858118e+02  5.56111410e+00  3.62889675e+02  2.30228379e+02\n",
      "   7.78704764e+01  1.45146645e+02  7.98945652e+02  7.96165328e+02\n",
      "   2.45608908e+02  2.37572653e+02  1.93158937e+02  1.82673781e+02\n",
      "   1.38125164e+02  5.95638268e+02  3.53006770e+02  8.78627741e+01\n",
      "   3.15594077e+00  4.80912834e+02  3.27496453e+02  2.25337213e+02\n",
      "   8.26538232e+01  2.02586876e+02  6.15542096e+02  3.10099720e+02\n",
      "   2.65625405e+02  6.06188455e+01  3.65206414e+02  1.27884022e+02\n",
      "   3.67768498e+02  4.28057042e+01  7.76246682e+02  8.18793787e+02\n",
      "   6.73427735e+02  1.60330201e+02  6.76759705e+01  7.68093810e+02\n",
      "   1.73180118e+02  7.63553821e+02  1.05511376e+02  1.53025724e+02\n",
      "   2.50413045e+02  1.08269651e+02  1.05675789e+01  5.98286962e+02\n",
      "   7.20649017e+02  1.40269081e+02  4.83008317e+01  1.48031199e+02\n",
      "   2.12769431e+02  5.80918598e+02  4.83436343e+02  4.61286891e+02\n",
      "   6.43074025e+02  1.95280008e+02  1.97998895e+02  6.61339716e+02\n",
      "   2.97863616e+02  1.85315736e+02  1.10533018e+02  2.40027387e+02\n",
      "   2.42957821e+02  2.23126937e+02  1.77675507e+02  3.57646715e+01\n",
      "   6.38172824e+02  2.00421656e+02  5.66270980e+02  3.30169327e+02\n",
      "   1.30452842e+02  3.70225633e+02  2.92488377e+02  7.57697720e+01\n",
      "   2.59988655e+02  7.75989925e+00  2.52566090e+02  5.83744944e+02\n",
      "   3.60202932e+02  7.58717670e+02  6.32560206e+01  9.78538980e+01\n",
      "   2.80347832e+02  7.41326147e+02  1.70609708e+02  2.10048277e+02\n",
      "   2.70183363e+02  4.58546271e+02  5.02862410e+01  3.37842064e+02\n",
      "   1.32777735e+02  4.53727822e+02  2.32799636e+02  1.75396696e+02\n",
      "   9.03631235e+01  5.91260018e+02  1.58028013e+02  2.82607655e+02\n",
      "   3.57510250e+02  5.29644471e+01  5.51988063e+01  3.80268214e+01\n",
      "   2.95150243e+02  8.26159183e+02  1.02904332e+02  1.57861350e+01\n",
      "   5.29172792e+02  3.12846935e+02  1.15679349e+02  3.15530231e+02\n",
      "   6.53947753e+01  3.72840711e+02  1.20177397e+02  2.55436675e+02\n",
      "   2.87471443e+02  3.39882761e+02  1.81139960e+01  1.35651697e+02\n",
      "   2.28039462e+02  5.11062538e+02  1.12713555e+02  8.54883096e+01\n",
      "   2.15169181e+02  9.32809291e+01  7.05587060e+02  8.06152136e+01\n",
      "   2.83483159e+01  3.24976511e+02  3.22930858e+02  1.55268291e+02\n",
      "   1.50308928e+02  6.66120080e+02  3.42461382e+02  2.35632430e+02\n",
      "   1.27503641e+01  4.75977639e+02  7.29730834e+01  3.50374784e+02\n",
      "   6.20712116e+02  5.31371098e+02  1.68047730e+02  6.68374642e+02\n",
      "   6.35569034e+02  6.75919159e+02  1.88114659e+02  5.63484852e+02\n",
      "   7.15662586e+02  5.15837350e+02  1.22710579e+02  3.35329472e+02]\n",
      " [ 1.12737724e+01  1.77670952e+01  6.06830872e+00 -6.64673808e+00\n",
      "   1.45307754e+01 -9.31145994e+00  1.43790096e+01  1.25834858e+01\n",
      "  -1.46513184e+00  4.94591986e+00 -5.01912054e+00  1.57925245e+01\n",
      "   9.63617158e+00  2.20006077e+01  1.86532659e+00  5.76674554e+00\n",
      "  -6.06633048e-01  9.92846721e+00  2.23702750e+01  3.76975229e+00\n",
      "   2.65418086e+00 -7.07708198e+00  1.32128286e+01  1.58747542e+01\n",
      "   1.39733212e+01  6.30519186e+00  2.67752920e+00  7.20428882e+00\n",
      "   1.29096714e+01 -7.96790136e+00  2.52192684e+01  1.45040855e+01\n",
      "   6.50498549e+00  1.59166246e+01  1.39282971e+01  3.79553340e+00\n",
      "   1.85936222e+00  1.18503987e+01 -3.00160379e+00  2.21740059e+01\n",
      "   3.56979468e-01  8.90274159e+00  7.97750101e+00 -4.11702812e+00\n",
      "   1.54291660e+01  8.14903963e+00  2.08517003e+01  1.44413314e+01\n",
      "   1.78907555e+01  7.93038285e+00 -4.87900735e-02  1.72095781e+01\n",
      "   9.93702403e+00  1.70885421e+01  1.70353311e+01  2.55445907e+00\n",
      "   2.50409109e+01 -1.06537849e+00  2.00230207e+01  1.21646652e+01\n",
      "   1.54029780e+01  6.04232355e-01  3.48771105e+00  1.33152404e+01\n",
      "  -5.09644769e+00  3.54824544e+00  4.93536529e+00  1.64246535e+01\n",
      "   1.86632161e+00  1.83224274e+00 -1.10820573e+01  1.10110455e+00\n",
      "   1.30322449e+01  1.41578043e+01  1.93144121e+01  5.03249057e+00\n",
      "  -2.54815003e+00 -6.25771813e+00 -1.19149383e+01 -7.84567352e-01\n",
      "   3.54897322e+00 -5.66353408e+00  1.18092540e+01  5.76171171e+00\n",
      "  -2.22792126e+00  1.07112974e+01  1.50095569e+01  2.20703667e+01\n",
      "   1.80482139e+01  1.19273196e+01 -4.61356779e+00  7.76825819e-01\n",
      "   1.17943906e+00  1.76297340e+01  1.96971736e-01  2.08974806e+01\n",
      "   7.75049277e+00  1.33607149e+00  2.61683293e+01 -3.41298885e+00\n",
      "   5.77877415e-01  2.79744338e+00  1.74775622e+01  8.88560959e+00\n",
      "   1.00570212e+01  4.38820101e+00  1.36716150e+01  1.32016659e+01\n",
      "   6.18256534e+00  1.14106348e+01  1.05409791e+01 -3.20346966e-01\n",
      "   5.85609315e+00  2.92101684e-01  4.10290233e+00  3.36847506e+00\n",
      "   8.76015187e+00  4.22833100e+00  1.52538308e+01  5.81474801e+00\n",
      "  -5.12952658e-03 -6.38815094e+00 -5.01455451e+00  1.50719962e+01\n",
      "   6.92124545e+00 -5.11953422e+00  5.53458045e+00  2.47420975e+00\n",
      "   1.49521784e+01  6.06098578e+00  1.60066694e+01  1.86095002e+01\n",
      "   5.92037563e+00  1.46029114e+01 -4.46634627e+00  1.06354052e+01\n",
      "  -4.61111573e+00  2.65748107e+00  2.25472763e+01  1.41704543e+01\n",
      "   6.85906498e+00  6.57629344e+00  1.53817141e+01 -1.46718374e+00\n",
      "   6.28410966e+00  6.39548583e+00  6.85475438e+00  9.42958141e+00\n",
      "   1.27133287e+00 -1.07585189e+00  1.84745124e+01 -3.17275311e+00\n",
      "   1.14248280e+01  1.22316080e+01  3.39373226e-01 -1.99691913e-01\n",
      "   6.39056266e+00 -6.72214670e-02  1.36914105e+01  7.58073287e+00\n",
      "   7.83169628e+00 -3.79619932e+00  1.01249000e+01 -3.21969531e-01\n",
      "   1.06311342e+01  5.27630859e-01  3.14274887e+00  5.99395985e+00\n",
      "   1.43746937e+01  9.18057596e+00 -7.51698263e+00  2.30837381e+00\n",
      "   1.51036372e+00 -2.68827881e+00 -2.04254843e+00 -4.84747149e+00\n",
      "   7.74036780e+00  1.22524810e+01 -3.74935991e+00  5.55286343e+00\n",
      "  -2.44024120e+00  5.76049822e+00  9.82488633e+00  9.89590083e+00\n",
      "   5.13589441e+00  3.63051487e+00  2.33834387e+00 -4.36870291e+00\n",
      "   1.10451874e+01  5.86564614e+00  8.86587523e+00  8.10262646e+00\n",
      "   3.40891301e+00  1.44914481e+01  1.22602693e+01  3.74229226e+00\n",
      "  -2.07516374e+00  2.74009966e+00  1.65403225e+01  8.33665946e+00\n",
      "   1.10100931e+00  7.03594410e+00  9.64100463e+00  1.78645519e+01\n",
      "  -1.96471888e+00  1.73122267e+00  6.49020899e+00  1.44838984e+01\n",
      "   1.24246785e+00  2.74442029e+00  9.22846695e+00 -4.84888474e+00\n",
      "   4.56437969e+00  8.73942773e+00 -1.70419087e-01  1.60286831e+01\n",
      "   3.22561269e-01  4.73407762e+00  1.51294952e+01 -3.77032008e+00\n",
      "   7.01020833e+00 -3.44010779e+00 -6.89965169e+00  1.52323282e+01\n",
      "  -6.15533519e+00  5.54773627e+00 -4.28129824e+00  1.41591728e+01\n",
      "  -3.71240855e+00  9.58409076e+00  1.52137114e+01  5.57153343e+00\n",
      "   1.29271282e+00  1.23682163e+01  9.55286415e+00 -3.70785184e+00\n",
      "  -2.09866233e+00  1.26274133e+01  5.16192809e+00 -1.40270021e-01\n",
      "   3.10085851e+00  1.67353188e+01  1.31127509e+00  4.75277890e+00\n",
      "   5.94486188e+00  1.43204476e+01  8.03941677e+00 -4.04825730e+00\n",
      "  -7.89485380e+00  9.02588911e+00  3.12468758e+00  1.07389118e+01\n",
      "  -3.39518965e+00  6.76409359e+00  6.56756691e+00  1.69551928e+01\n",
      "   2.48216116e+01  5.34763718e-01  1.23343370e+01  4.51069497e+00\n",
      "   7.20909714e+00 -9.65023433e-01  1.17722792e+00  3.81522442e+00\n",
      "  -7.15864863e+00 -1.03022711e+01  1.31111442e+01  1.12716733e+01\n",
      "   6.70129770e+00  1.17927934e+01  2.14309679e+00  8.81267755e+00\n",
      "  -1.16139660e+00  1.50802975e+01 -3.09757716e+00  1.17182886e+01\n",
      "   1.80393185e+01 -7.89893413e+00  2.15401402e+00  2.38200188e+00\n",
      "   3.38963733e+00  9.53807797e+00 -8.62928511e+00  8.57635660e+00\n",
      "   5.22437936e+00  1.07199352e+01  8.76161223e+00  2.95695320e-01\n",
      "   1.58453483e+00  1.81272031e+01  8.24606771e+00  4.08136478e+00\n",
      "  -1.90415576e+00  4.89043670e+00  9.26429248e+00  8.89111758e+00\n",
      "  -1.66305304e+00  6.72483368e+00  1.85048274e+00 -3.60516310e-01]]\n"
     ]
    }
   ],
   "source": [
    "print(\"Now we will transform our data\")\n",
    "print(\"We will project this data on one of the eigen vector\")\n",
    "projection=np.matmul(eigen_vects,points)\n",
    "print(\"The shape of this projection matrix is \",projection.shape)\n",
    "print(\"The first row represents when we project data along eigen vector corresponding to highest eigen value\")\n",
    "print(\"The projection matrix is:\")\n",
    "print(projection)"
   ]
  },
  {
   "cell_type": "code",
   "execution_count": 38,
   "metadata": {},
   "outputs": [],
   "source": [
    "##Splitting data with the help of python dictionary\n",
    "C1={}\n",
    "C2={}\n",
    "for i in dataset.index:\n",
    "    if dataset.iloc[i][\"Class\"]==\"C1\":\n",
    "        C1[i]=True\n",
    "    else:\n",
    "        C2[i]=True"
   ]
  },
  {
   "cell_type": "code",
   "execution_count": 39,
   "metadata": {},
   "outputs": [
    {
     "name": "stdout",
     "output_type": "stream",
     "text": [
      "Can be classified\n"
     ]
    }
   ],
   "source": [
    "##Checking for classification property of eigen vector1\n",
    "p1=projection[0]\n",
    "l=[]\n",
    "for i in range(len(p1)):\n",
    "    l.append([p1[i],i])\n",
    "l.sort(key=lambda a:a[0])\n",
    "stack=[]\n",
    "for i in l:\n",
    "    if stack==[]:\n",
    "        if i[1] in C1.keys():\n",
    "            stack.append(\"C1\")\n",
    "        else:\n",
    "            stack.append(\"C2\")\n",
    "        continue\n",
    "    cat=None\n",
    "    if i[1] in C1.keys():\n",
    "        cat=\"C1\"\n",
    "    else:\n",
    "        cat=\"C2\"\n",
    "    if stack[-1]==cat:\n",
    "        stack.append(cat)\n",
    "    if stack[-1]!=cat:\n",
    "        break\n",
    "if len(stack)==len(C1) or len(stack)==len(C2):\n",
    "    print(\"Can be classified\")\n",
    "else:\n",
    "    print(\"Cannot be classified\")"
   ]
  },
  {
   "cell_type": "code",
   "execution_count": 40,
   "metadata": {},
   "outputs": [
    {
     "name": "stdout",
     "output_type": "stream",
     "text": [
      "Cannot be classified\n"
     ]
    }
   ],
   "source": [
    "p1=projection[1]\n",
    "l=[]\n",
    "for i in range(len(p1)):\n",
    "    l.append([p1[i],i])\n",
    "l.sort(key=lambda a:a[0])\n",
    "stack=[]\n",
    "for i in l:\n",
    "    if stack==[]:\n",
    "        if i[1] in C1.keys():\n",
    "            stack.append(\"C1\")\n",
    "        else:\n",
    "            stack.append(\"C2\")\n",
    "        continue\n",
    "    cat=None\n",
    "    if i[1] in C1.keys():\n",
    "        cat=\"C1\"\n",
    "    else:\n",
    "        cat=\"C2\"\n",
    "    if stack[-1]==cat:\n",
    "        stack.append(cat)\n",
    "    if stack[-1]!=cat:\n",
    "        break\n",
    "if len(stack)==len(C1) or len(stack)==len(C2):\n",
    "    print(\"Can be classified\")\n",
    "else:\n",
    "    print(\"Cannot be classified\")"
   ]
  },
  {
   "cell_type": "markdown",
   "metadata": {},
   "source": [
    "## Data Viz"
   ]
  },
  {
   "cell_type": "code",
   "execution_count": 65,
   "metadata": {},
   "outputs": [
    {
     "data": {
      "image/png": "[encoded data removed]",
      "text/plain": [
       "<Figure size 360x360 with 1 Axes>"
      ]
     },
     "metadata": {},
     "output_type": "display_data"
    }
   ],
   "source": [
    "#the dataset\n",
    "import seaborn as sns\n",
    "sns.set(rc={'figure.figsize':(11.7,8.27)})\n",
    "b=sns.lmplot(data=dataset,x=\"X1\",y=\"X2\")\n",
    "b.set_title(\"The Original Dataset\",fontsize=19,fontweight=\"bold\")\n",
    "b.set_ylabel(\"X2\",fontweight=\"bold\",fontsize=15)\n",
    "b.set_xlabel(\"X1\",fontweight=\"bold\",fontsize=15)"
   ]
  },
  {
   "cell_type": "code",
   "execution_count": null,
   "metadata": {},
   "outputs": [],
   "source": []
  }
 ],
 "metadata": {
  "kernelspec": {
   "display_name": "Python 3",
   "language": "python",
   "name": "python3"
  },
  "language_info": {
   "codemirror_mode": {
    "name": "ipython",
    "version": 3
   },
   "file_extension": ".py",
   "mimetype": "text/x-python",
   "name": "python",
   "nbconvert_exporter": "python",
   "pygments_lexer": "ipython3",
   "version": "3.8.3"
  }
 },
 "nbformat": 4,
 "nbformat_minor": 4
}
